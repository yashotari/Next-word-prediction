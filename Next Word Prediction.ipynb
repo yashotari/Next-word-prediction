{
 "cells": [
  {
   "cell_type": "code",
   "execution_count": 1,
   "id": "b1f1244a",
   "metadata": {},
   "outputs": [],
   "source": [
    "import pandas as pd"
   ]
  },
  {
   "cell_type": "code",
   "execution_count": 2,
   "id": "84c51988",
   "metadata": {},
   "outputs": [],
   "source": [
    "df=pd.read_csv(\"../DSML25/US_Crime_Data.csv\")"
   ]
  },
  {
   "cell_type": "code",
   "execution_count": 3,
   "id": "06166015",
   "metadata": {},
   "outputs": [
    {
     "data": {
      "text/html": [
       "<div>\n",
       "<style scoped>\n",
       "    .dataframe tbody tr th:only-of-type {\n",
       "        vertical-align: middle;\n",
       "    }\n",
       "\n",
       "    .dataframe tbody tr th {\n",
       "        vertical-align: top;\n",
       "    }\n",
       "\n",
       "    .dataframe thead th {\n",
       "        text-align: right;\n",
       "    }\n",
       "</style>\n",
       "<table border=\"1\" class=\"dataframe\">\n",
       "  <thead>\n",
       "    <tr style=\"text-align: right;\">\n",
       "      <th></th>\n",
       "      <th>Date</th>\n",
       "      <th>Title</th>\n",
       "      <th>Organization</th>\n",
       "      <th>City</th>\n",
       "      <th>State</th>\n",
       "      <th>URL</th>\n",
       "      <th>Keyword</th>\n",
       "      <th>Summary</th>\n",
       "    </tr>\n",
       "  </thead>\n",
       "  <tbody>\n",
       "    <tr>\n",
       "      <th>0</th>\n",
       "      <td>2/13/17 9:01</td>\n",
       "      <td>Pizza Hut driver who killed co-worker with sho...</td>\n",
       "      <td>LGBTQ Nation</td>\n",
       "      <td>Phoenix</td>\n",
       "      <td>AZ</td>\n",
       "      <td>http://www.lgbtqnation.com/2017/02/man-accused...</td>\n",
       "      <td>NaN</td>\n",
       "      <td>NaN</td>\n",
       "    </tr>\n",
       "    <tr>\n",
       "      <th>1</th>\n",
       "      <td>2/13/17 9:37</td>\n",
       "      <td>Residents of NJ township receiving KKK promoti...</td>\n",
       "      <td>New York Daily News</td>\n",
       "      <td>NaN</td>\n",
       "      <td>NaN</td>\n",
       "      <td>http://www.nydailynews.com/news/national/resid...</td>\n",
       "      <td>NaN</td>\n",
       "      <td>NaN</td>\n",
       "    </tr>\n",
       "    <tr>\n",
       "      <th>2</th>\n",
       "      <td>2/13/17 15:37</td>\n",
       "      <td>House OKs bill to expand Kentucky's hate crime...</td>\n",
       "      <td>FOX19</td>\n",
       "      <td>Cincinnati</td>\n",
       "      <td>OH</td>\n",
       "      <td>http://www.fox19.com/story/34494432/house-oks-...</td>\n",
       "      <td>NaN</td>\n",
       "      <td>NaN</td>\n",
       "    </tr>\n",
       "    <tr>\n",
       "      <th>3</th>\n",
       "      <td>2/13/17 16:56</td>\n",
       "      <td>Amid Protests, 'Blue Lives Matter' Bill Passes...</td>\n",
       "      <td>89.3 WFPL</td>\n",
       "      <td>Louisville</td>\n",
       "      <td>KY</td>\n",
       "      <td>http://wfpl.org/amid-protests-blue-lives-matte...</td>\n",
       "      <td>NaN</td>\n",
       "      <td>NaN</td>\n",
       "    </tr>\n",
       "    <tr>\n",
       "      <th>4</th>\n",
       "      <td>2/13/17 18:37</td>\n",
       "      <td>Lafourche inmates charged with hate crimes in ...</td>\n",
       "      <td>Daily Comet</td>\n",
       "      <td>Thibodaux</td>\n",
       "      <td>LA</td>\n",
       "      <td>http://www.dailycomet.com/news/20170213/lafour...</td>\n",
       "      <td>NaN</td>\n",
       "      <td>NaN</td>\n",
       "    </tr>\n",
       "    <tr>\n",
       "      <th>...</th>\n",
       "      <td>...</td>\n",
       "      <td>...</td>\n",
       "      <td>...</td>\n",
       "      <td>...</td>\n",
       "      <td>...</td>\n",
       "      <td>...</td>\n",
       "      <td>...</td>\n",
       "      <td>...</td>\n",
       "    </tr>\n",
       "    <tr>\n",
       "      <th>6778</th>\n",
       "      <td>12/18/17 18:26</td>\n",
       "      <td>Police: Rash of Vandalism on Margate Menorahs ...</td>\n",
       "      <td>literock969.com</td>\n",
       "      <td>Vineland</td>\n",
       "      <td>NJ</td>\n",
       "      <td>http://literock969.com/police-rash-of-vandalis...</td>\n",
       "      <td>NaN</td>\n",
       "      <td>NaN</td>\n",
       "    </tr>\n",
       "    <tr>\n",
       "      <th>6779</th>\n",
       "      <td>12/18/17 19:03</td>\n",
       "      <td>Ex-student accused of smearing used tampon on ...</td>\n",
       "      <td>New York Daily News</td>\n",
       "      <td>NaN</td>\n",
       "      <td>NaN</td>\n",
       "      <td>http://www.nydailynews.com/news/national/woman...</td>\n",
       "      <td>backpack barbie belongings brianna brochu chen...</td>\n",
       "      <td>BY Elizabeth Elizalde\\tBrianna Brochu, 18, was...</td>\n",
       "    </tr>\n",
       "    <tr>\n",
       "      <th>6780</th>\n",
       "      <td>12/18/17 19:56</td>\n",
       "      <td>Queensbury woman charged with hate crime again...</td>\n",
       "      <td>Albany Times Union</td>\n",
       "      <td>Albany</td>\n",
       "      <td>NY</td>\n",
       "      <td>https://www.timesunion.com/news/article/Deputi...</td>\n",
       "      <td>boy cooper correctional court deputies epithet...</td>\n",
       "      <td>QUEENSBURY — A Queensbury woman is accused of ...</td>\n",
       "    </tr>\n",
       "    <tr>\n",
       "      <th>6781</th>\n",
       "      <td>12/18/17 21:03</td>\n",
       "      <td>Hate crime? Hartford student accused of smeari...</td>\n",
       "      <td>scallywagandvagabond</td>\n",
       "      <td>New York</td>\n",
       "      <td>New York</td>\n",
       "      <td>https://scallywagandvagabond.com/2017/12/brian...</td>\n",
       "      <td>barbie brianna brochu chennel conn crime hartf...</td>\n",
       "      <td>Pictured former University of Hartford student...</td>\n",
       "    </tr>\n",
       "    <tr>\n",
       "      <th>6782</th>\n",
       "      <td>12/19/17 4:01</td>\n",
       "      <td>Police Make Arrest Following Alleged Hate Crim...</td>\n",
       "      <td>Sports Illustrated</td>\n",
       "      <td>NaN</td>\n",
       "      <td>NaN</td>\n",
       "      <td>https://www.si.com/soccer/2017/12/19/police-ma...</td>\n",
       "      <td>aggravated bbc city clayton crime evening hate...</td>\n",
       "      <td>NaN</td>\n",
       "    </tr>\n",
       "  </tbody>\n",
       "</table>\n",
       "<p>6783 rows × 8 columns</p>\n",
       "</div>"
      ],
      "text/plain": [
       "                Date                                              Title  \\\n",
       "0       2/13/17 9:01  Pizza Hut driver who killed co-worker with sho...   \n",
       "1       2/13/17 9:37  Residents of NJ township receiving KKK promoti...   \n",
       "2      2/13/17 15:37  House OKs bill to expand Kentucky's hate crime...   \n",
       "3      2/13/17 16:56  Amid Protests, 'Blue Lives Matter' Bill Passes...   \n",
       "4      2/13/17 18:37  Lafourche inmates charged with hate crimes in ...   \n",
       "...              ...                                                ...   \n",
       "6778  12/18/17 18:26  Police: Rash of Vandalism on Margate Menorahs ...   \n",
       "6779  12/18/17 19:03  Ex-student accused of smearing used tampon on ...   \n",
       "6780  12/18/17 19:56  Queensbury woman charged with hate crime again...   \n",
       "6781  12/18/17 21:03  Hate crime? Hartford student accused of smeari...   \n",
       "6782   12/19/17 4:01  Police Make Arrest Following Alleged Hate Crim...   \n",
       "\n",
       "              Organization        City     State  \\\n",
       "0             LGBTQ Nation     Phoenix        AZ   \n",
       "1      New York Daily News         NaN       NaN   \n",
       "2                    FOX19  Cincinnati        OH   \n",
       "3                89.3 WFPL  Louisville        KY   \n",
       "4              Daily Comet   Thibodaux        LA   \n",
       "...                    ...         ...       ...   \n",
       "6778       literock969.com    Vineland        NJ   \n",
       "6779   New York Daily News         NaN       NaN   \n",
       "6780    Albany Times Union      Albany        NY   \n",
       "6781  scallywagandvagabond    New York  New York   \n",
       "6782    Sports Illustrated         NaN       NaN   \n",
       "\n",
       "                                                    URL  \\\n",
       "0     http://www.lgbtqnation.com/2017/02/man-accused...   \n",
       "1     http://www.nydailynews.com/news/national/resid...   \n",
       "2     http://www.fox19.com/story/34494432/house-oks-...   \n",
       "3     http://wfpl.org/amid-protests-blue-lives-matte...   \n",
       "4     http://www.dailycomet.com/news/20170213/lafour...   \n",
       "...                                                 ...   \n",
       "6778  http://literock969.com/police-rash-of-vandalis...   \n",
       "6779  http://www.nydailynews.com/news/national/woman...   \n",
       "6780  https://www.timesunion.com/news/article/Deputi...   \n",
       "6781  https://scallywagandvagabond.com/2017/12/brian...   \n",
       "6782  https://www.si.com/soccer/2017/12/19/police-ma...   \n",
       "\n",
       "                                                Keyword  \\\n",
       "0                                                   NaN   \n",
       "1                                                   NaN   \n",
       "2                                                   NaN   \n",
       "3                                                   NaN   \n",
       "4                                                   NaN   \n",
       "...                                                 ...   \n",
       "6778                                                NaN   \n",
       "6779  backpack barbie belongings brianna brochu chen...   \n",
       "6780  boy cooper correctional court deputies epithet...   \n",
       "6781  barbie brianna brochu chennel conn crime hartf...   \n",
       "6782  aggravated bbc city clayton crime evening hate...   \n",
       "\n",
       "                                                Summary  \n",
       "0                                                   NaN  \n",
       "1                                                   NaN  \n",
       "2                                                   NaN  \n",
       "3                                                   NaN  \n",
       "4                                                   NaN  \n",
       "...                                                 ...  \n",
       "6778                                                NaN  \n",
       "6779  BY Elizabeth Elizalde\\tBrianna Brochu, 18, was...  \n",
       "6780  QUEENSBURY — A Queensbury woman is accused of ...  \n",
       "6781  Pictured former University of Hartford student...  \n",
       "6782                                                NaN  \n",
       "\n",
       "[6783 rows x 8 columns]"
      ]
     },
     "execution_count": 3,
     "metadata": {},
     "output_type": "execute_result"
    }
   ],
   "source": [
    "df"
   ]
  },
  {
   "cell_type": "code",
   "execution_count": 4,
   "id": "af7919b2",
   "metadata": {},
   "outputs": [
    {
     "data": {
      "text/plain": [
       "0       Pizza Hut driver who killed co-worker with sho...\n",
       "1       Residents of NJ township receiving KKK promoti...\n",
       "2       House OKs bill to expand Kentucky's hate crime...\n",
       "3       Amid Protests, 'Blue Lives Matter' Bill Passes...\n",
       "4       Lafourche inmates charged with hate crimes in ...\n",
       "                              ...                        \n",
       "6778    Police: Rash of Vandalism on Margate Menorahs ...\n",
       "6779    Ex-student accused of smearing used tampon on ...\n",
       "6780    Queensbury woman charged with hate crime again...\n",
       "6781    Hate crime? Hartford student accused of smeari...\n",
       "6782    Police Make Arrest Following Alleged Hate Crim...\n",
       "Name: Title, Length: 6783, dtype: object"
      ]
     },
     "execution_count": 4,
     "metadata": {},
     "output_type": "execute_result"
    }
   ],
   "source": [
    "df[\"Title\"]"
   ]
  },
  {
   "cell_type": "markdown",
   "id": "9235b507",
   "metadata": {},
   "source": [
    "# Preprocessing"
   ]
  },
  {
   "cell_type": "code",
   "execution_count": 5,
   "id": "f40d9d08",
   "metadata": {},
   "outputs": [
    {
     "data": {
      "text/html": [
       "<div>\n",
       "<style scoped>\n",
       "    .dataframe tbody tr th:only-of-type {\n",
       "        vertical-align: middle;\n",
       "    }\n",
       "\n",
       "    .dataframe tbody tr th {\n",
       "        vertical-align: top;\n",
       "    }\n",
       "\n",
       "    .dataframe thead th {\n",
       "        text-align: right;\n",
       "    }\n",
       "</style>\n",
       "<table border=\"1\" class=\"dataframe\">\n",
       "  <thead>\n",
       "    <tr style=\"text-align: right;\">\n",
       "      <th></th>\n",
       "      <th>Title</th>\n",
       "    </tr>\n",
       "  </thead>\n",
       "  <tbody>\n",
       "    <tr>\n",
       "      <th>0</th>\n",
       "      <td>Pizza Hut driver who killed co-worker with sho...</td>\n",
       "    </tr>\n",
       "    <tr>\n",
       "      <th>1</th>\n",
       "      <td>Residents of NJ township receiving KKK promoti...</td>\n",
       "    </tr>\n",
       "    <tr>\n",
       "      <th>2</th>\n",
       "      <td>House OKs bill to expand Kentucky's hate crime...</td>\n",
       "    </tr>\n",
       "    <tr>\n",
       "      <th>3</th>\n",
       "      <td>Amid Protests, 'Blue Lives Matter' Bill Passes...</td>\n",
       "    </tr>\n",
       "    <tr>\n",
       "      <th>4</th>\n",
       "      <td>Lafourche inmates charged with hate crimes in ...</td>\n",
       "    </tr>\n",
       "    <tr>\n",
       "      <th>...</th>\n",
       "      <td>...</td>\n",
       "    </tr>\n",
       "    <tr>\n",
       "      <th>6777</th>\n",
       "      <td>Police: Rash of Vandalism on Margate Menorahs ...</td>\n",
       "    </tr>\n",
       "    <tr>\n",
       "      <th>6778</th>\n",
       "      <td>Ex-student accused of smearing used tampon on ...</td>\n",
       "    </tr>\n",
       "    <tr>\n",
       "      <th>6779</th>\n",
       "      <td>Queensbury woman charged with hate crime again...</td>\n",
       "    </tr>\n",
       "    <tr>\n",
       "      <th>6780</th>\n",
       "      <td>Hate crime? Hartford student accused of smeari...</td>\n",
       "    </tr>\n",
       "    <tr>\n",
       "      <th>6781</th>\n",
       "      <td>Police Make Arrest Following Alleged Hate Crim...</td>\n",
       "    </tr>\n",
       "  </tbody>\n",
       "</table>\n",
       "<p>6782 rows × 1 columns</p>\n",
       "</div>"
      ],
      "text/plain": [
       "                                                  Title\n",
       "0     Pizza Hut driver who killed co-worker with sho...\n",
       "1     Residents of NJ township receiving KKK promoti...\n",
       "2     House OKs bill to expand Kentucky's hate crime...\n",
       "3     Amid Protests, 'Blue Lives Matter' Bill Passes...\n",
       "4     Lafourche inmates charged with hate crimes in ...\n",
       "...                                                 ...\n",
       "6777  Police: Rash of Vandalism on Margate Menorahs ...\n",
       "6778  Ex-student accused of smearing used tampon on ...\n",
       "6779  Queensbury woman charged with hate crime again...\n",
       "6780  Hate crime? Hartford student accused of smeari...\n",
       "6781  Police Make Arrest Following Alleged Hate Crim...\n",
       "\n",
       "[6782 rows x 1 columns]"
      ]
     },
     "execution_count": 5,
     "metadata": {},
     "output_type": "execute_result"
    }
   ],
   "source": [
    "df=df[[\"Title\"]].dropna().reset_index(drop=True)\n",
    "df"
   ]
  },
  {
   "cell_type": "markdown",
   "id": "4f661c0b",
   "metadata": {},
   "source": [
    "# Removing Punctuations"
   ]
  },
  {
   "cell_type": "code",
   "execution_count": 6,
   "id": "334517bd",
   "metadata": {},
   "outputs": [],
   "source": [
    "import string\n",
    "def clean(df):\n",
    "    df[\"Title\"]=df[\"Title\"].apply(lambda x:x.lower())\n",
    "    tokens=df['Title'].str.replace('[{}]'.format(string.punctuation),'')\n",
    "    return tokens"
   ]
  },
  {
   "cell_type": "code",
   "execution_count": 7,
   "id": "b409e8ac",
   "metadata": {},
   "outputs": [
    {
     "name": "stderr",
     "output_type": "stream",
     "text": [
      "C:\\Users\\HP\\AppData\\Local\\Temp\\ipykernel_11276\\3312494629.py:4: FutureWarning: The default value of regex will change from True to False in a future version.\n",
      "  tokens=df['Title'].str.replace('[{}]'.format(string.punctuation),'')\n"
     ]
    }
   ],
   "source": [
    "tokens=clean(df)"
   ]
  },
  {
   "cell_type": "code",
   "execution_count": 8,
   "id": "01ee478e",
   "metadata": {},
   "outputs": [
    {
     "data": {
      "text/plain": [
       "0       pizza hut driver who killed coworker with shot...\n",
       "1       residents of nj township receiving kkk promoti...\n",
       "2       house oks bill to expand kentuckys hate crimes...\n",
       "3       amid protests blue lives matter bill passes ke...\n",
       "4       lafourche inmates charged with hate crimes in ...\n",
       "                              ...                        \n",
       "6777    police rash of vandalism on margate menorahs i...\n",
       "6778    exstudent accused of smearing used tampon on r...\n",
       "6779    queensbury woman charged with hate crime again...\n",
       "6780    hate crime hartford student accused of smearin...\n",
       "6781    police make arrest following alleged hate crim...\n",
       "Name: Title, Length: 6782, dtype: object"
      ]
     },
     "execution_count": 8,
     "metadata": {},
     "output_type": "execute_result"
    }
   ],
   "source": [
    "tokens"
   ]
  },
  {
   "cell_type": "code",
   "execution_count": 9,
   "id": "68d4e97a",
   "metadata": {},
   "outputs": [
    {
     "data": {
      "text/plain": [
       "6563"
      ]
     },
     "execution_count": 9,
     "metadata": {},
     "output_type": "execute_result"
    }
   ],
   "source": [
    "len(set(tokens))"
   ]
  },
  {
   "cell_type": "markdown",
   "id": "2c6473ae",
   "metadata": {},
   "source": [
    "# Tokenizing"
   ]
  },
  {
   "cell_type": "code",
   "execution_count": 10,
   "id": "c14fcf9b",
   "metadata": {},
   "outputs": [],
   "source": [
    "from tensorflow.keras.preprocessing.text import Tokenizer\n",
    "tokenizer=Tokenizer()\n",
    "tokenizer.fit_on_texts(tokens)\n",
    "seq = tokenizer.texts_to_sequences(tokens)"
   ]
  },
  {
   "cell_type": "code",
   "execution_count": 11,
   "id": "f1230d8f",
   "metadata": {},
   "outputs": [
    {
     "data": {
      "text/plain": [
       "[[3973, 3974, 450, 47, 88, 3975, 12, 2211, 103, 1370, 2803],\n",
       " [830, 4, 423, 1558, 2212, 470, 3976, 672],\n",
       " [257, 1846, 75, 5, 593, 3977, 1, 6, 36],\n",
       " [721, 898, 480, 274, 301, 75, 481, 634, 257],\n",
       " [3978, 2804, 16, 12, 1, 6, 3, 424, 19],\n",
       " [13, 722, 1, 2, 48, 594, 3979, 5, 401],\n",
       " [3980, 480, 274, 301, 75, 21, 1371, 2805, 5, 214, 3981, 173],\n",
       " [194, 320, 18, 402, 2806, 239, 15, 98, 38],\n",
       " [194,\n",
       "  320,\n",
       "  18,\n",
       "  402,\n",
       "  2806,\n",
       "  239,\n",
       "  15,\n",
       "  98,\n",
       "  38,\n",
       "  635,\n",
       "  174,\n",
       "  556,\n",
       "  557,\n",
       "  14,\n",
       "  498,\n",
       "  558,\n",
       "  275,\n",
       "  42],\n",
       " [33, 174, 673, 302, 2, 1372, 2807, 3, 2213]]"
      ]
     },
     "execution_count": 11,
     "metadata": {},
     "output_type": "execute_result"
    }
   ],
   "source": [
    "seq[:10]"
   ]
  },
  {
   "cell_type": "markdown",
   "id": "7aaf6197",
   "metadata": {},
   "source": [
    "# Creating input and output data list"
   ]
  },
  {
   "cell_type": "code",
   "execution_count": 12,
   "id": "6704631e",
   "metadata": {},
   "outputs": [
    {
     "name": "stdout",
     "output_type": "stream",
     "text": [
      "Total Words Dropped : 12\n"
     ]
    }
   ],
   "source": [
    "x = []\n",
    "y = []\n",
    "total_words_drop = 0\n",
    "for i in seq:\n",
    "    if len(i) > 1:\n",
    "        for j in range(1, len(i)):\n",
    "            x.append(i[:j])\n",
    "            y.append(i[j])\n",
    "            \n",
    "    else : \n",
    "        total_words_drop +=1\n",
    "print('Total Words Dropped : {}'.format(total_words_drop))"
   ]
  },
  {
   "cell_type": "markdown",
   "id": "abd76bfc",
   "metadata": {},
   "source": [
    "# Padding sequences"
   ]
  },
  {
   "cell_type": "code",
   "execution_count": 13,
   "id": "2336b03c",
   "metadata": {},
   "outputs": [],
   "source": [
    "from tensorflow.keras.preprocessing.sequence import pad_sequences"
   ]
  },
  {
   "cell_type": "code",
   "execution_count": 14,
   "id": "4d02f3a8",
   "metadata": {},
   "outputs": [],
   "source": [
    "x =pad_sequences(x)"
   ]
  },
  {
   "cell_type": "code",
   "execution_count": 15,
   "id": "8e543d90",
   "metadata": {},
   "outputs": [
    {
     "data": {
      "text/plain": [
       "(64701, 49)"
      ]
     },
     "execution_count": 15,
     "metadata": {},
     "output_type": "execute_result"
    }
   ],
   "source": [
    "x.shape"
   ]
  },
  {
   "cell_type": "markdown",
   "id": "23e110e9",
   "metadata": {},
   "source": [
    "# Shaping y same as x"
   ]
  },
  {
   "cell_type": "code",
   "execution_count": 16,
   "id": "c0f68e77",
   "metadata": {},
   "outputs": [],
   "source": [
    "from tensorflow.keras.utils import to_categorical"
   ]
  },
  {
   "cell_type": "code",
   "execution_count": 17,
   "id": "5937815d",
   "metadata": {},
   "outputs": [],
   "source": [
    "y=to_categorical(y)"
   ]
  },
  {
   "cell_type": "code",
   "execution_count": 18,
   "id": "04a97e85",
   "metadata": {},
   "outputs": [
    {
     "data": {
      "text/plain": [
       "(64701, 7569)"
      ]
     },
     "execution_count": 18,
     "metadata": {},
     "output_type": "execute_result"
    }
   ],
   "source": [
    "y.shape"
   ]
  },
  {
   "cell_type": "markdown",
   "id": "41f760fb",
   "metadata": {},
   "source": [
    "# Vocab Size : total no. of unique words"
   ]
  },
  {
   "cell_type": "code",
   "execution_count": 19,
   "id": "fd187d75",
   "metadata": {},
   "outputs": [
    {
     "data": {
      "text/plain": [
       "7569"
      ]
     },
     "execution_count": 19,
     "metadata": {},
     "output_type": "execute_result"
    }
   ],
   "source": [
    "vocab_size = len(tokenizer.word_index) + 1\n",
    "vocab_size"
   ]
  },
  {
   "cell_type": "markdown",
   "id": "f4afd885",
   "metadata": {},
   "source": [
    "# LSTM Model"
   ]
  },
  {
   "cell_type": "code",
   "execution_count": 20,
   "id": "15777732",
   "metadata": {},
   "outputs": [],
   "source": [
    "from tensorflow.keras.layers import Dense,LSTM,Embedding\n",
    "from tensorflow.keras.models import Sequential"
   ]
  },
  {
   "cell_type": "code",
   "execution_count": 21,
   "id": "9ffc3f3b",
   "metadata": {},
   "outputs": [],
   "source": [
    "model = Sequential()\n",
    "model.add(Embedding(vocab_size,49))\n",
    "model.add(LSTM(100, return_sequences = True))\n",
    "model.add(LSTM(100))\n",
    "model.add(Dense(100, activation = 'relu'))\n",
    "model.add(Dense(vocab_size, activation = 'softmax'))"
   ]
  },
  {
   "cell_type": "code",
   "execution_count": 22,
   "id": "94d2688c",
   "metadata": {},
   "outputs": [
    {
     "name": "stdout",
     "output_type": "stream",
     "text": [
      "Model: \"sequential\"\n",
      "_________________________________________________________________\n",
      " Layer (type)                Output Shape              Param #   \n",
      "=================================================================\n",
      " embedding (Embedding)       (None, None, 49)          370881    \n",
      "                                                                 \n",
      " lstm (LSTM)                 (None, None, 100)         60000     \n",
      "                                                                 \n",
      " lstm_1 (LSTM)               (None, 100)               80400     \n",
      "                                                                 \n",
      " dense (Dense)               (None, 100)               10100     \n",
      "                                                                 \n",
      " dense_1 (Dense)             (None, 7569)              764469    \n",
      "                                                                 \n",
      "=================================================================\n",
      "Total params: 1285850 (4.91 MB)\n",
      "Trainable params: 1285850 (4.91 MB)\n",
      "Non-trainable params: 0 (0.00 Byte)\n",
      "_________________________________________________________________\n"
     ]
    }
   ],
   "source": [
    "model.summary()"
   ]
  },
  {
   "cell_type": "code",
   "execution_count": 23,
   "id": "487c1b81",
   "metadata": {},
   "outputs": [],
   "source": [
    "model.compile(loss  = 'categorical_crossentropy',optimizer = 'adam',metrics = ['accuracy'])"
   ]
  },
  {
   "cell_type": "code",
   "execution_count": 24,
   "id": "082cd1ac",
   "metadata": {},
   "outputs": [],
   "source": [
    "from tensorflow.keras.callbacks import EarlyStopping"
   ]
  },
  {
   "cell_type": "code",
   "execution_count": 25,
   "id": "61d336e3",
   "metadata": {},
   "outputs": [
    {
     "name": "stdout",
     "output_type": "stream",
     "text": [
      "Epoch 1/100\n",
      "253/253 [==============================] - ETA: 0s - loss: 7.0157 - accuracy: 0.0555WARNING:tensorflow:Early stopping conditioned on metric `val_loss` which is not available. Available metrics are: loss,accuracy\n",
      "253/253 [==============================] - 132s 454ms/step - loss: 7.0157 - accuracy: 0.0555\n",
      "Epoch 2/100\n",
      "253/253 [==============================] - ETA: 0s - loss: 6.4958 - accuracy: 0.0936WARNING:tensorflow:Early stopping conditioned on metric `val_loss` which is not available. Available metrics are: loss,accuracy\n",
      "253/253 [==============================] - 111s 440ms/step - loss: 6.4958 - accuracy: 0.0936\n",
      "Epoch 3/100\n",
      "253/253 [==============================] - ETA: 0s - loss: 6.3004 - accuracy: 0.1138WARNING:tensorflow:Early stopping conditioned on metric `val_loss` which is not available. Available metrics are: loss,accuracy\n",
      "253/253 [==============================] - 149s 590ms/step - loss: 6.3004 - accuracy: 0.1138\n",
      "Epoch 4/100\n",
      "253/253 [==============================] - ETA: 0s - loss: 6.1143 - accuracy: 0.1263WARNING:tensorflow:Early stopping conditioned on metric `val_loss` which is not available. Available metrics are: loss,accuracy\n",
      "253/253 [==============================] - 135s 533ms/step - loss: 6.1143 - accuracy: 0.1263\n",
      "Epoch 5/100\n",
      "253/253 [==============================] - ETA: 0s - loss: 5.9337 - accuracy: 0.1346WARNING:tensorflow:Early stopping conditioned on metric `val_loss` which is not available. Available metrics are: loss,accuracy\n",
      "253/253 [==============================] - 115s 455ms/step - loss: 5.9337 - accuracy: 0.1346\n",
      "Epoch 6/100\n",
      "253/253 [==============================] - ETA: 0s - loss: 5.7700 - accuracy: 0.1417WARNING:tensorflow:Early stopping conditioned on metric `val_loss` which is not available. Available metrics are: loss,accuracy\n",
      "253/253 [==============================] - 106s 417ms/step - loss: 5.7700 - accuracy: 0.1417\n",
      "Epoch 7/100\n",
      "253/253 [==============================] - ETA: 0s - loss: 5.6270 - accuracy: 0.1491WARNING:tensorflow:Early stopping conditioned on metric `val_loss` which is not available. Available metrics are: loss,accuracy\n",
      "253/253 [==============================] - 110s 434ms/step - loss: 5.6270 - accuracy: 0.1491\n",
      "Epoch 8/100\n",
      "253/253 [==============================] - ETA: 0s - loss: 5.4953 - accuracy: 0.1575WARNING:tensorflow:Early stopping conditioned on metric `val_loss` which is not available. Available metrics are: loss,accuracy\n",
      "253/253 [==============================] - 112s 442ms/step - loss: 5.4953 - accuracy: 0.1575\n",
      "Epoch 9/100\n",
      "253/253 [==============================] - ETA: 0s - loss: 5.3744 - accuracy: 0.1656WARNING:tensorflow:Early stopping conditioned on metric `val_loss` which is not available. Available metrics are: loss,accuracy\n",
      "253/253 [==============================] - 140s 552ms/step - loss: 5.3744 - accuracy: 0.1656\n",
      "Epoch 10/100\n",
      "253/253 [==============================] - ETA: 0s - loss: 5.2589 - accuracy: 0.1735WARNING:tensorflow:Early stopping conditioned on metric `val_loss` which is not available. Available metrics are: loss,accuracy\n",
      "253/253 [==============================] - 142s 561ms/step - loss: 5.2589 - accuracy: 0.1735\n",
      "Epoch 11/100\n",
      "253/253 [==============================] - ETA: 0s - loss: 5.1470 - accuracy: 0.1832WARNING:tensorflow:Early stopping conditioned on metric `val_loss` which is not available. Available metrics are: loss,accuracy\n",
      "253/253 [==============================] - 116s 457ms/step - loss: 5.1470 - accuracy: 0.1832\n",
      "Epoch 12/100\n",
      "253/253 [==============================] - ETA: 0s - loss: 5.0316 - accuracy: 0.1893WARNING:tensorflow:Early stopping conditioned on metric `val_loss` which is not available. Available metrics are: loss,accuracy\n",
      "253/253 [==============================] - 114s 452ms/step - loss: 5.0316 - accuracy: 0.1893\n",
      "Epoch 13/100\n",
      "253/253 [==============================] - ETA: 0s - loss: 4.9182 - accuracy: 0.1979WARNING:tensorflow:Early stopping conditioned on metric `val_loss` which is not available. Available metrics are: loss,accuracy\n",
      "253/253 [==============================] - 111s 438ms/step - loss: 4.9182 - accuracy: 0.1979\n",
      "Epoch 14/100\n",
      "253/253 [==============================] - ETA: 0s - loss: 4.8047 - accuracy: 0.2043WARNING:tensorflow:Early stopping conditioned on metric `val_loss` which is not available. Available metrics are: loss,accuracy\n",
      "253/253 [==============================] - 112s 444ms/step - loss: 4.8047 - accuracy: 0.2043\n",
      "Epoch 15/100\n",
      "253/253 [==============================] - ETA: 0s - loss: 4.6939 - accuracy: 0.2133WARNING:tensorflow:Early stopping conditioned on metric `val_loss` which is not available. Available metrics are: loss,accuracy\n",
      "253/253 [==============================] - 106s 418ms/step - loss: 4.6939 - accuracy: 0.2133\n",
      "Epoch 16/100\n",
      "253/253 [==============================] - ETA: 0s - loss: 4.5830 - accuracy: 0.2218WARNING:tensorflow:Early stopping conditioned on metric `val_loss` which is not available. Available metrics are: loss,accuracy\n",
      "253/253 [==============================] - 117s 463ms/step - loss: 4.5830 - accuracy: 0.2218\n",
      "Epoch 17/100\n",
      "253/253 [==============================] - ETA: 0s - loss: 4.4832 - accuracy: 0.2306WARNING:tensorflow:Early stopping conditioned on metric `val_loss` which is not available. Available metrics are: loss,accuracy\n",
      "253/253 [==============================] - 115s 455ms/step - loss: 4.4832 - accuracy: 0.2306\n",
      "Epoch 18/100\n",
      "253/253 [==============================] - ETA: 0s - loss: 4.3883 - accuracy: 0.2377WARNING:tensorflow:Early stopping conditioned on metric `val_loss` which is not available. Available metrics are: loss,accuracy\n",
      "253/253 [==============================] - 111s 438ms/step - loss: 4.3883 - accuracy: 0.2377\n",
      "Epoch 19/100\n",
      "253/253 [==============================] - ETA: 0s - loss: 4.2932 - accuracy: 0.2449WARNING:tensorflow:Early stopping conditioned on metric `val_loss` which is not available. Available metrics are: loss,accuracy\n",
      "253/253 [==============================] - 111s 440ms/step - loss: 4.2932 - accuracy: 0.2449\n",
      "Epoch 20/100\n",
      "253/253 [==============================] - ETA: 0s - loss: 4.2010 - accuracy: 0.2540WARNING:tensorflow:Early stopping conditioned on metric `val_loss` which is not available. Available metrics are: loss,accuracy\n",
      "253/253 [==============================] - 112s 441ms/step - loss: 4.2010 - accuracy: 0.2540\n",
      "Epoch 21/100\n",
      "253/253 [==============================] - ETA: 0s - loss: 4.9848 - accuracy: 0.1889WARNING:tensorflow:Early stopping conditioned on metric `val_loss` which is not available. Available metrics are: loss,accuracy\n",
      "253/253 [==============================] - 115s 455ms/step - loss: 4.9848 - accuracy: 0.1889\n",
      "Epoch 22/100\n",
      "253/253 [==============================] - ETA: 0s - loss: 4.2910 - accuracy: 0.2447WARNING:tensorflow:Early stopping conditioned on metric `val_loss` which is not available. Available metrics are: loss,accuracy\n",
      "253/253 [==============================] - 112s 441ms/step - loss: 4.2910 - accuracy: 0.2447\n",
      "Epoch 23/100\n",
      "253/253 [==============================] - ETA: 0s - loss: 4.1141 - accuracy: 0.2620WARNING:tensorflow:Early stopping conditioned on metric `val_loss` which is not available. Available metrics are: loss,accuracy\n",
      "253/253 [==============================] - 105s 413ms/step - loss: 4.1141 - accuracy: 0.2620\n",
      "Epoch 24/100\n",
      "253/253 [==============================] - ETA: 0s - loss: 3.9898 - accuracy: 0.2746WARNING:tensorflow:Early stopping conditioned on metric `val_loss` which is not available. Available metrics are: loss,accuracy\n",
      "253/253 [==============================] - 100s 396ms/step - loss: 3.9898 - accuracy: 0.2746\n",
      "Epoch 25/100\n",
      "253/253 [==============================] - ETA: 0s - loss: 3.8729 - accuracy: 0.2871WARNING:tensorflow:Early stopping conditioned on metric `val_loss` which is not available. Available metrics are: loss,accuracy\n",
      "253/253 [==============================] - 107s 424ms/step - loss: 3.8729 - accuracy: 0.2871\n",
      "Epoch 26/100\n",
      "253/253 [==============================] - ETA: 0s - loss: 3.7656 - accuracy: 0.2978WARNING:tensorflow:Early stopping conditioned on metric `val_loss` which is not available. Available metrics are: loss,accuracy\n",
      "253/253 [==============================] - 101s 400ms/step - loss: 3.7656 - accuracy: 0.2978\n"
     ]
    },
    {
     "name": "stdout",
     "output_type": "stream",
     "text": [
      "Epoch 27/100\n",
      "253/253 [==============================] - ETA: 0s - loss: 3.6589 - accuracy: 0.3104WARNING:tensorflow:Early stopping conditioned on metric `val_loss` which is not available. Available metrics are: loss,accuracy\n",
      "253/253 [==============================] - 102s 401ms/step - loss: 3.6589 - accuracy: 0.3104\n",
      "Epoch 28/100\n",
      "253/253 [==============================] - ETA: 0s - loss: 3.5581 - accuracy: 0.3199WARNING:tensorflow:Early stopping conditioned on metric `val_loss` which is not available. Available metrics are: loss,accuracy\n",
      "253/253 [==============================] - 122s 482ms/step - loss: 3.5581 - accuracy: 0.3199\n",
      "Epoch 29/100\n",
      "253/253 [==============================] - ETA: 0s - loss: 3.4553 - accuracy: 0.3335WARNING:tensorflow:Early stopping conditioned on metric `val_loss` which is not available. Available metrics are: loss,accuracy\n",
      "253/253 [==============================] - 101s 401ms/step - loss: 3.4553 - accuracy: 0.3335\n",
      "Epoch 30/100\n",
      "253/253 [==============================] - ETA: 0s - loss: 3.3583 - accuracy: 0.3445WARNING:tensorflow:Early stopping conditioned on metric `val_loss` which is not available. Available metrics are: loss,accuracy\n",
      "253/253 [==============================] - 100s 395ms/step - loss: 3.3583 - accuracy: 0.3445\n",
      "Epoch 31/100\n",
      "253/253 [==============================] - ETA: 0s - loss: 3.2617 - accuracy: 0.3561WARNING:tensorflow:Early stopping conditioned on metric `val_loss` which is not available. Available metrics are: loss,accuracy\n",
      "253/253 [==============================] - 101s 399ms/step - loss: 3.2617 - accuracy: 0.3561\n",
      "Epoch 32/100\n",
      "253/253 [==============================] - ETA: 0s - loss: 3.1698 - accuracy: 0.3697WARNING:tensorflow:Early stopping conditioned on metric `val_loss` which is not available. Available metrics are: loss,accuracy\n",
      "253/253 [==============================] - 100s 396ms/step - loss: 3.1698 - accuracy: 0.3697\n",
      "Epoch 33/100\n",
      "253/253 [==============================] - ETA: 0s - loss: 3.0793 - accuracy: 0.3805WARNING:tensorflow:Early stopping conditioned on metric `val_loss` which is not available. Available metrics are: loss,accuracy\n",
      "253/253 [==============================] - 103s 405ms/step - loss: 3.0793 - accuracy: 0.3805\n",
      "Epoch 34/100\n",
      "253/253 [==============================] - ETA: 0s - loss: 2.9954 - accuracy: 0.3907WARNING:tensorflow:Early stopping conditioned on metric `val_loss` which is not available. Available metrics are: loss,accuracy\n",
      "253/253 [==============================] - 131s 518ms/step - loss: 2.9954 - accuracy: 0.3907\n",
      "Epoch 35/100\n",
      "253/253 [==============================] - ETA: 0s - loss: 2.9074 - accuracy: 0.4042WARNING:tensorflow:Early stopping conditioned on metric `val_loss` which is not available. Available metrics are: loss,accuracy\n",
      "253/253 [==============================] - 112s 440ms/step - loss: 2.9074 - accuracy: 0.4042\n",
      "Epoch 36/100\n",
      "253/253 [==============================] - ETA: 0s - loss: 2.8308 - accuracy: 0.4159WARNING:tensorflow:Early stopping conditioned on metric `val_loss` which is not available. Available metrics are: loss,accuracy\n",
      "253/253 [==============================] - 140s 552ms/step - loss: 2.8308 - accuracy: 0.4159\n",
      "Epoch 37/100\n",
      "253/253 [==============================] - ETA: 0s - loss: 2.7506 - accuracy: 0.4277WARNING:tensorflow:Early stopping conditioned on metric `val_loss` which is not available. Available metrics are: loss,accuracy\n",
      "253/253 [==============================] - 104s 412ms/step - loss: 2.7506 - accuracy: 0.4277\n",
      "Epoch 38/100\n",
      "253/253 [==============================] - ETA: 0s - loss: 2.6814 - accuracy: 0.4376WARNING:tensorflow:Early stopping conditioned on metric `val_loss` which is not available. Available metrics are: loss,accuracy\n",
      "253/253 [==============================] - 102s 405ms/step - loss: 2.6814 - accuracy: 0.4376\n",
      "Epoch 39/100\n",
      "253/253 [==============================] - ETA: 0s - loss: 2.6106 - accuracy: 0.4489WARNING:tensorflow:Early stopping conditioned on metric `val_loss` which is not available. Available metrics are: loss,accuracy\n",
      "253/253 [==============================] - 103s 408ms/step - loss: 2.6106 - accuracy: 0.4489\n",
      "Epoch 40/100\n",
      "253/253 [==============================] - ETA: 0s - loss: 2.5405 - accuracy: 0.4608WARNING:tensorflow:Early stopping conditioned on metric `val_loss` which is not available. Available metrics are: loss,accuracy\n",
      "253/253 [==============================] - 100s 396ms/step - loss: 2.5405 - accuracy: 0.4608\n",
      "Epoch 41/100\n",
      "253/253 [==============================] - ETA: 0s - loss: 2.4712 - accuracy: 0.4699WARNING:tensorflow:Early stopping conditioned on metric `val_loss` which is not available. Available metrics are: loss,accuracy\n",
      "253/253 [==============================] - 124s 492ms/step - loss: 2.4712 - accuracy: 0.4699\n",
      "Epoch 42/100\n",
      "253/253 [==============================] - ETA: 0s - loss: 2.4128 - accuracy: 0.4807WARNING:tensorflow:Early stopping conditioned on metric `val_loss` which is not available. Available metrics are: loss,accuracy\n",
      "253/253 [==============================] - 142s 560ms/step - loss: 2.4128 - accuracy: 0.4807\n",
      "Epoch 43/100\n",
      "253/253 [==============================] - ETA: 0s - loss: 2.3506 - accuracy: 0.4902WARNING:tensorflow:Early stopping conditioned on metric `val_loss` which is not available. Available metrics are: loss,accuracy\n",
      "253/253 [==============================] - 142s 562ms/step - loss: 2.3506 - accuracy: 0.4902\n",
      "Epoch 44/100\n",
      "253/253 [==============================] - ETA: 0s - loss: 2.2917 - accuracy: 0.5001WARNING:tensorflow:Early stopping conditioned on metric `val_loss` which is not available. Available metrics are: loss,accuracy\n",
      "253/253 [==============================] - 149s 588ms/step - loss: 2.2917 - accuracy: 0.5001\n",
      "Epoch 45/100\n",
      "253/253 [==============================] - ETA: 0s - loss: 2.2399 - accuracy: 0.5077WARNING:tensorflow:Early stopping conditioned on metric `val_loss` which is not available. Available metrics are: loss,accuracy\n",
      "253/253 [==============================] - 143s 563ms/step - loss: 2.2399 - accuracy: 0.5077\n",
      "Epoch 46/100\n",
      "253/253 [==============================] - ETA: 0s - loss: 2.1835 - accuracy: 0.5201WARNING:tensorflow:Early stopping conditioned on metric `val_loss` which is not available. Available metrics are: loss,accuracy\n",
      "253/253 [==============================] - 138s 547ms/step - loss: 2.1835 - accuracy: 0.5201\n",
      "Epoch 47/100\n",
      "253/253 [==============================] - ETA: 0s - loss: 2.1293 - accuracy: 0.5280WARNING:tensorflow:Early stopping conditioned on metric `val_loss` which is not available. Available metrics are: loss,accuracy\n",
      "253/253 [==============================] - 139s 548ms/step - loss: 2.1293 - accuracy: 0.5280\n",
      "Epoch 48/100\n",
      "253/253 [==============================] - ETA: 0s - loss: 2.0782 - accuracy: 0.5361WARNING:tensorflow:Early stopping conditioned on metric `val_loss` which is not available. Available metrics are: loss,accuracy\n",
      "253/253 [==============================] - 139s 549ms/step - loss: 2.0782 - accuracy: 0.5361\n",
      "Epoch 49/100\n",
      "253/253 [==============================] - ETA: 0s - loss: 2.0303 - accuracy: 0.5441WARNING:tensorflow:Early stopping conditioned on metric `val_loss` which is not available. Available metrics are: loss,accuracy\n",
      "253/253 [==============================] - 137s 542ms/step - loss: 2.0303 - accuracy: 0.5441\n",
      "Epoch 50/100\n",
      "253/253 [==============================] - ETA: 0s - loss: 1.9891 - accuracy: 0.5549WARNING:tensorflow:Early stopping conditioned on metric `val_loss` which is not available. Available metrics are: loss,accuracy\n",
      "253/253 [==============================] - 138s 546ms/step - loss: 1.9891 - accuracy: 0.5549\n",
      "Epoch 51/100\n",
      "253/253 [==============================] - ETA: 0s - loss: 1.9448 - accuracy: 0.5618WARNING:tensorflow:Early stopping conditioned on metric `val_loss` which is not available. Available metrics are: loss,accuracy\n",
      "253/253 [==============================] - 138s 546ms/step - loss: 1.9448 - accuracy: 0.5618\n",
      "Epoch 52/100\n",
      "253/253 [==============================] - ETA: 0s - loss: 1.9012 - accuracy: 0.5681WARNING:tensorflow:Early stopping conditioned on metric `val_loss` which is not available. Available metrics are: loss,accuracy\n",
      "253/253 [==============================] - 116s 460ms/step - loss: 1.9012 - accuracy: 0.5681\n"
     ]
    },
    {
     "name": "stdout",
     "output_type": "stream",
     "text": [
      "Epoch 53/100\n",
      "253/253 [==============================] - ETA: 0s - loss: 1.8562 - accuracy: 0.5782WARNING:tensorflow:Early stopping conditioned on metric `val_loss` which is not available. Available metrics are: loss,accuracy\n",
      "253/253 [==============================] - 102s 404ms/step - loss: 1.8562 - accuracy: 0.5782\n",
      "Epoch 54/100\n",
      "253/253 [==============================] - ETA: 0s - loss: 1.8157 - accuracy: 0.5858WARNING:tensorflow:Early stopping conditioned on metric `val_loss` which is not available. Available metrics are: loss,accuracy\n",
      "253/253 [==============================] - 102s 404ms/step - loss: 1.8157 - accuracy: 0.5858\n",
      "Epoch 55/100\n",
      "253/253 [==============================] - ETA: 0s - loss: 1.7757 - accuracy: 0.5920WARNING:tensorflow:Early stopping conditioned on metric `val_loss` which is not available. Available metrics are: loss,accuracy\n",
      "253/253 [==============================] - 138s 546ms/step - loss: 1.7757 - accuracy: 0.5920\n",
      "Epoch 56/100\n",
      "253/253 [==============================] - ETA: 0s - loss: 1.7360 - accuracy: 0.6019WARNING:tensorflow:Early stopping conditioned on metric `val_loss` which is not available. Available metrics are: loss,accuracy\n",
      "253/253 [==============================] - 104s 410ms/step - loss: 1.7360 - accuracy: 0.6019\n",
      "Epoch 57/100\n",
      "253/253 [==============================] - ETA: 0s - loss: 1.7016 - accuracy: 0.6085WARNING:tensorflow:Early stopping conditioned on metric `val_loss` which is not available. Available metrics are: loss,accuracy\n",
      "253/253 [==============================] - 101s 399ms/step - loss: 1.7016 - accuracy: 0.6085\n",
      "Epoch 58/100\n",
      "253/253 [==============================] - ETA: 0s - loss: 1.6644 - accuracy: 0.6147WARNING:tensorflow:Early stopping conditioned on metric `val_loss` which is not available. Available metrics are: loss,accuracy\n",
      "253/253 [==============================] - 111s 439ms/step - loss: 1.6644 - accuracy: 0.6147\n",
      "Epoch 59/100\n",
      "253/253 [==============================] - ETA: 0s - loss: 1.6281 - accuracy: 0.6213WARNING:tensorflow:Early stopping conditioned on metric `val_loss` which is not available. Available metrics are: loss,accuracy\n",
      "253/253 [==============================] - 135s 532ms/step - loss: 1.6281 - accuracy: 0.6213\n",
      "Epoch 60/100\n",
      "253/253 [==============================] - ETA: 0s - loss: 1.5891 - accuracy: 0.6298WARNING:tensorflow:Early stopping conditioned on metric `val_loss` which is not available. Available metrics are: loss,accuracy\n",
      "253/253 [==============================] - 99s 391ms/step - loss: 1.5891 - accuracy: 0.6298\n",
      "Epoch 61/100\n",
      "253/253 [==============================] - ETA: 0s - loss: 1.5595 - accuracy: 0.6348WARNING:tensorflow:Early stopping conditioned on metric `val_loss` which is not available. Available metrics are: loss,accuracy\n",
      "253/253 [==============================] - 92s 363ms/step - loss: 1.5595 - accuracy: 0.6348\n",
      "Epoch 62/100\n",
      "253/253 [==============================] - ETA: 0s - loss: 1.5273 - accuracy: 0.6419WARNING:tensorflow:Early stopping conditioned on metric `val_loss` which is not available. Available metrics are: loss,accuracy\n",
      "253/253 [==============================] - 101s 398ms/step - loss: 1.5273 - accuracy: 0.6419\n",
      "Epoch 63/100\n",
      "253/253 [==============================] - ETA: 0s - loss: 1.4992 - accuracy: 0.6461WARNING:tensorflow:Early stopping conditioned on metric `val_loss` which is not available. Available metrics are: loss,accuracy\n",
      "253/253 [==============================] - 137s 540ms/step - loss: 1.4992 - accuracy: 0.6461\n",
      "Epoch 64/100\n",
      "253/253 [==============================] - ETA: 0s - loss: 1.4632 - accuracy: 0.6538WARNING:tensorflow:Early stopping conditioned on metric `val_loss` which is not available. Available metrics are: loss,accuracy\n",
      "253/253 [==============================] - 138s 544ms/step - loss: 1.4632 - accuracy: 0.6538\n",
      "Epoch 65/100\n",
      "253/253 [==============================] - ETA: 0s - loss: 1.4378 - accuracy: 0.6592WARNING:tensorflow:Early stopping conditioned on metric `val_loss` which is not available. Available metrics are: loss,accuracy\n",
      "253/253 [==============================] - 136s 538ms/step - loss: 1.4378 - accuracy: 0.6592\n",
      "Epoch 66/100\n",
      "253/253 [==============================] - ETA: 0s - loss: 1.4110 - accuracy: 0.6649WARNING:tensorflow:Early stopping conditioned on metric `val_loss` which is not available. Available metrics are: loss,accuracy\n",
      "253/253 [==============================] - 133s 527ms/step - loss: 1.4110 - accuracy: 0.6649\n",
      "Epoch 67/100\n",
      "253/253 [==============================] - ETA: 0s - loss: 1.3801 - accuracy: 0.6712WARNING:tensorflow:Early stopping conditioned on metric `val_loss` which is not available. Available metrics are: loss,accuracy\n",
      "253/253 [==============================] - 133s 527ms/step - loss: 1.3801 - accuracy: 0.6712\n",
      "Epoch 68/100\n",
      "253/253 [==============================] - ETA: 0s - loss: 1.3500 - accuracy: 0.6773WARNING:tensorflow:Early stopping conditioned on metric `val_loss` which is not available. Available metrics are: loss,accuracy\n",
      "253/253 [==============================] - 137s 543ms/step - loss: 1.3500 - accuracy: 0.6773\n",
      "Epoch 69/100\n",
      "253/253 [==============================] - ETA: 0s - loss: 1.3220 - accuracy: 0.6843WARNING:tensorflow:Early stopping conditioned on metric `val_loss` which is not available. Available metrics are: loss,accuracy\n",
      "253/253 [==============================] - 108s 426ms/step - loss: 1.3220 - accuracy: 0.6843\n",
      "Epoch 70/100\n",
      "253/253 [==============================] - ETA: 0s - loss: 1.2975 - accuracy: 0.6895WARNING:tensorflow:Early stopping conditioned on metric `val_loss` which is not available. Available metrics are: loss,accuracy\n",
      "253/253 [==============================] - 133s 526ms/step - loss: 1.2975 - accuracy: 0.6895\n",
      "Epoch 71/100\n",
      "253/253 [==============================] - ETA: 0s - loss: 1.2751 - accuracy: 0.6933WARNING:tensorflow:Early stopping conditioned on metric `val_loss` which is not available. Available metrics are: loss,accuracy\n",
      "253/253 [==============================] - 134s 531ms/step - loss: 1.2751 - accuracy: 0.6933\n",
      "Epoch 72/100\n",
      "253/253 [==============================] - ETA: 0s - loss: 1.2497 - accuracy: 0.6987WARNING:tensorflow:Early stopping conditioned on metric `val_loss` which is not available. Available metrics are: loss,accuracy\n",
      "253/253 [==============================] - 135s 532ms/step - loss: 1.2497 - accuracy: 0.6987\n",
      "Epoch 73/100\n",
      "253/253 [==============================] - ETA: 0s - loss: 1.2233 - accuracy: 0.7075WARNING:tensorflow:Early stopping conditioned on metric `val_loss` which is not available. Available metrics are: loss,accuracy\n",
      "253/253 [==============================] - 132s 522ms/step - loss: 1.2233 - accuracy: 0.7075\n",
      "Epoch 74/100\n",
      "253/253 [==============================] - ETA: 0s - loss: 1.1975 - accuracy: 0.7119WARNING:tensorflow:Early stopping conditioned on metric `val_loss` which is not available. Available metrics are: loss,accuracy\n",
      "253/253 [==============================] - 133s 527ms/step - loss: 1.1975 - accuracy: 0.7119\n",
      "Epoch 75/100\n",
      "253/253 [==============================] - ETA: 0s - loss: 1.1794 - accuracy: 0.7157WARNING:tensorflow:Early stopping conditioned on metric `val_loss` which is not available. Available metrics are: loss,accuracy\n",
      "253/253 [==============================] - 132s 523ms/step - loss: 1.1794 - accuracy: 0.7157\n",
      "Epoch 76/100\n",
      "253/253 [==============================] - ETA: 0s - loss: 1.1563 - accuracy: 0.7198WARNING:tensorflow:Early stopping conditioned on metric `val_loss` which is not available. Available metrics are: loss,accuracy\n",
      "253/253 [==============================] - 103s 408ms/step - loss: 1.1563 - accuracy: 0.7198\n",
      "Epoch 77/100\n",
      "253/253 [==============================] - ETA: 0s - loss: 1.1325 - accuracy: 0.7255WARNING:tensorflow:Early stopping conditioned on metric `val_loss` which is not available. Available metrics are: loss,accuracy\n",
      "253/253 [==============================] - 102s 402ms/step - loss: 1.1325 - accuracy: 0.7255\n",
      "Epoch 78/100\n",
      "253/253 [==============================] - ETA: 0s - loss: 1.1123 - accuracy: 0.7310WARNING:tensorflow:Early stopping conditioned on metric `val_loss` which is not available. Available metrics are: loss,accuracy\n",
      "253/253 [==============================] - 115s 455ms/step - loss: 1.1123 - accuracy: 0.7310\n"
     ]
    },
    {
     "name": "stdout",
     "output_type": "stream",
     "text": [
      "Epoch 79/100\n",
      "253/253 [==============================] - ETA: 0s - loss: 1.0885 - accuracy: 0.7348WARNING:tensorflow:Early stopping conditioned on metric `val_loss` which is not available. Available metrics are: loss,accuracy\n",
      "253/253 [==============================] - 116s 460ms/step - loss: 1.0885 - accuracy: 0.7348\n",
      "Epoch 80/100\n",
      "253/253 [==============================] - ETA: 0s - loss: 1.0720 - accuracy: 0.7384WARNING:tensorflow:Early stopping conditioned on metric `val_loss` which is not available. Available metrics are: loss,accuracy\n",
      "253/253 [==============================] - 105s 413ms/step - loss: 1.0720 - accuracy: 0.7384\n",
      "Epoch 81/100\n",
      "253/253 [==============================] - ETA: 0s - loss: 1.0472 - accuracy: 0.7447WARNING:tensorflow:Early stopping conditioned on metric `val_loss` which is not available. Available metrics are: loss,accuracy\n",
      "253/253 [==============================] - 101s 400ms/step - loss: 1.0472 - accuracy: 0.7447\n",
      "Epoch 82/100\n",
      "253/253 [==============================] - ETA: 0s - loss: 1.0321 - accuracy: 0.7471WARNING:tensorflow:Early stopping conditioned on metric `val_loss` which is not available. Available metrics are: loss,accuracy\n",
      "253/253 [==============================] - 105s 416ms/step - loss: 1.0321 - accuracy: 0.7471\n",
      "Epoch 83/100\n",
      "253/253 [==============================] - ETA: 0s - loss: 1.0136 - accuracy: 0.7515WARNING:tensorflow:Early stopping conditioned on metric `val_loss` which is not available. Available metrics are: loss,accuracy\n",
      "253/253 [==============================] - 113s 448ms/step - loss: 1.0136 - accuracy: 0.7515\n",
      "Epoch 84/100\n",
      "253/253 [==============================] - ETA: 0s - loss: 0.9930 - accuracy: 0.7566WARNING:tensorflow:Early stopping conditioned on metric `val_loss` which is not available. Available metrics are: loss,accuracy\n",
      "253/253 [==============================] - 137s 540ms/step - loss: 0.9930 - accuracy: 0.7566\n",
      "Epoch 85/100\n",
      "253/253 [==============================] - ETA: 0s - loss: 0.9786 - accuracy: 0.7578WARNING:tensorflow:Early stopping conditioned on metric `val_loss` which is not available. Available metrics are: loss,accuracy\n",
      "253/253 [==============================] - 123s 486ms/step - loss: 0.9786 - accuracy: 0.7578\n",
      "Epoch 86/100\n",
      "253/253 [==============================] - ETA: 0s - loss: 0.9573 - accuracy: 0.7652WARNING:tensorflow:Early stopping conditioned on metric `val_loss` which is not available. Available metrics are: loss,accuracy\n",
      "253/253 [==============================] - 102s 401ms/step - loss: 0.9573 - accuracy: 0.7652\n",
      "Epoch 87/100\n",
      "253/253 [==============================] - ETA: 0s - loss: 0.9399 - accuracy: 0.7684WARNING:tensorflow:Early stopping conditioned on metric `val_loss` which is not available. Available metrics are: loss,accuracy\n",
      "253/253 [==============================] - 101s 400ms/step - loss: 0.9399 - accuracy: 0.7684\n",
      "Epoch 88/100\n",
      "253/253 [==============================] - ETA: 0s - loss: 0.9282 - accuracy: 0.7712WARNING:tensorflow:Early stopping conditioned on metric `val_loss` which is not available. Available metrics are: loss,accuracy\n",
      "253/253 [==============================] - 102s 404ms/step - loss: 0.9282 - accuracy: 0.7712\n",
      "Epoch 89/100\n",
      "253/253 [==============================] - ETA: 0s - loss: 0.9073 - accuracy: 0.7760WARNING:tensorflow:Early stopping conditioned on metric `val_loss` which is not available. Available metrics are: loss,accuracy\n",
      "253/253 [==============================] - 110s 436ms/step - loss: 0.9073 - accuracy: 0.7760\n",
      "Epoch 90/100\n",
      "253/253 [==============================] - ETA: 0s - loss: 0.8962 - accuracy: 0.7784WARNING:tensorflow:Early stopping conditioned on metric `val_loss` which is not available. Available metrics are: loss,accuracy\n",
      "253/253 [==============================] - 137s 543ms/step - loss: 0.8962 - accuracy: 0.7784\n",
      "Epoch 91/100\n",
      "253/253 [==============================] - ETA: 0s - loss: 0.8799 - accuracy: 0.7808WARNING:tensorflow:Early stopping conditioned on metric `val_loss` which is not available. Available metrics are: loss,accuracy\n",
      "253/253 [==============================] - 130s 515ms/step - loss: 0.8799 - accuracy: 0.7808\n",
      "Epoch 92/100\n",
      "253/253 [==============================] - ETA: 0s - loss: 0.8612 - accuracy: 0.7868WARNING:tensorflow:Early stopping conditioned on metric `val_loss` which is not available. Available metrics are: loss,accuracy\n",
      "253/253 [==============================] - 102s 404ms/step - loss: 0.8612 - accuracy: 0.7868\n",
      "Epoch 93/100\n",
      "253/253 [==============================] - ETA: 0s - loss: 0.8499 - accuracy: 0.7884WARNING:tensorflow:Early stopping conditioned on metric `val_loss` which is not available. Available metrics are: loss,accuracy\n",
      "253/253 [==============================] - 102s 402ms/step - loss: 0.8499 - accuracy: 0.7884\n",
      "Epoch 94/100\n",
      "253/253 [==============================] - ETA: 0s - loss: 0.8398 - accuracy: 0.7895WARNING:tensorflow:Early stopping conditioned on metric `val_loss` which is not available. Available metrics are: loss,accuracy\n",
      "253/253 [==============================] - 108s 425ms/step - loss: 0.8398 - accuracy: 0.7895\n",
      "Epoch 95/100\n",
      "253/253 [==============================] - ETA: 0s - loss: 0.8203 - accuracy: 0.7958WARNING:tensorflow:Early stopping conditioned on metric `val_loss` which is not available. Available metrics are: loss,accuracy\n",
      "253/253 [==============================] - 124s 491ms/step - loss: 0.8203 - accuracy: 0.7958\n",
      "Epoch 96/100\n",
      "253/253 [==============================] - ETA: 0s - loss: 0.8080 - accuracy: 0.7982WARNING:tensorflow:Early stopping conditioned on metric `val_loss` which is not available. Available metrics are: loss,accuracy\n",
      "253/253 [==============================] - 118s 467ms/step - loss: 0.8080 - accuracy: 0.7982\n",
      "Epoch 97/100\n",
      "253/253 [==============================] - ETA: 0s - loss: 0.7950 - accuracy: 0.8009WARNING:tensorflow:Early stopping conditioned on metric `val_loss` which is not available. Available metrics are: loss,accuracy\n",
      "253/253 [==============================] - 105s 416ms/step - loss: 0.7950 - accuracy: 0.8009\n",
      "Epoch 98/100\n",
      "253/253 [==============================] - ETA: 0s - loss: 0.7828 - accuracy: 0.8026WARNING:tensorflow:Early stopping conditioned on metric `val_loss` which is not available. Available metrics are: loss,accuracy\n",
      "253/253 [==============================] - 105s 414ms/step - loss: 0.7828 - accuracy: 0.8026\n",
      "Epoch 99/100\n",
      "253/253 [==============================] - ETA: 0s - loss: 0.7705 - accuracy: 0.8057WARNING:tensorflow:Early stopping conditioned on metric `val_loss` which is not available. Available metrics are: loss,accuracy\n",
      "253/253 [==============================] - 106s 417ms/step - loss: 0.7705 - accuracy: 0.8057\n",
      "Epoch 100/100\n",
      "253/253 [==============================] - ETA: 0s - loss: 0.7541 - accuracy: 0.8099WARNING:tensorflow:Early stopping conditioned on metric `val_loss` which is not available. Available metrics are: loss,accuracy\n",
      "253/253 [==============================] - 106s 419ms/step - loss: 0.7541 - accuracy: 0.8099\n"
     ]
    }
   ],
   "source": [
    "history = model.fit(x,y,epochs = 100,batch_size = 256,callbacks = EarlyStopping(monitor = 'val_loss',patience = 5,restore_best_weights = True))"
   ]
  },
  {
   "cell_type": "markdown",
   "id": "28d0813a",
   "metadata": {},
   "source": [
    "# Vocab Array : list of all the unique words"
   ]
  },
  {
   "cell_type": "code",
   "execution_count": 27,
   "id": "e910caed",
   "metadata": {},
   "outputs": [
    {
     "data": {
      "text/plain": [
       "array(['hate', 'crime', 'in', ..., 'walks', 'lgbti', 'retires'],\n",
       "      dtype='<U23')"
      ]
     },
     "execution_count": 27,
     "metadata": {},
     "output_type": "execute_result"
    }
   ],
   "source": [
    "import numpy as np\n",
    "vocab_array = np.array(list(tokenizer.word_index.keys()))\n",
    "vocab_array"
   ]
  },
  {
   "cell_type": "markdown",
   "id": "d92006db",
   "metadata": {},
   "source": [
    "# Final Function for Predictions"
   ]
  },
  {
   "cell_type": "code",
   "execution_count": 31,
   "id": "b52719ae",
   "metadata": {},
   "outputs": [],
   "source": [
    "def make_predictions(text):\n",
    "    for i in range(3):\n",
    "        text_tokenize = tokenizer.texts_to_sequences([text])\n",
    "        text_padding  = pad_sequences(text_tokenize, maxlen = 49)\n",
    "        prediction = np.squeeze(np.argmax(model.predict(text_padding), axis = -1))\n",
    "        prediction = str(vocab_array[prediction - 1])\n",
    "        text += \" \" + prediction\n",
    "    return text"
   ]
  },
  {
   "cell_type": "markdown",
   "id": "d2fad4c7",
   "metadata": {},
   "source": [
    "# Testing Model"
   ]
  },
  {
   "cell_type": "code",
   "execution_count": 32,
   "id": "4fb11af9",
   "metadata": {},
   "outputs": [
    {
     "name": "stdout",
     "output_type": "stream",
     "text": [
      "1/1 [==============================] - 7s 7s/step\n",
      "1/1 [==============================] - 0s 50ms/step\n",
      "1/1 [==============================] - 0s 66ms/step\n"
     ]
    },
    {
     "data": {
      "text/plain": [
       "'california hate crimes rise'"
      ]
     },
     "execution_count": 32,
     "metadata": {},
     "output_type": "execute_result"
    }
   ],
   "source": [
    "make_predictions('california')"
   ]
  },
  {
   "cell_type": "code",
   "execution_count": 34,
   "id": "7618faaf",
   "metadata": {},
   "outputs": [
    {
     "name": "stdout",
     "output_type": "stream",
     "text": [
      "1/1 [==============================] - 0s 29ms/step\n",
      "1/1 [==============================] - 0s 24ms/step\n",
      "1/1 [==============================] - 0s 23ms/step\n"
     ]
    },
    {
     "data": {
      "text/plain": [
       "'new york confronts hate crimes'"
      ]
     },
     "execution_count": 34,
     "metadata": {},
     "output_type": "execute_result"
    }
   ],
   "source": [
    "make_predictions('new york')"
   ]
  },
  {
   "cell_type": "code",
   "execution_count": 35,
   "id": "c1f0f0f5",
   "metadata": {},
   "outputs": [
    {
     "name": "stdout",
     "output_type": "stream",
     "text": [
      "1/1 [==============================] - 0s 56ms/step\n",
      "1/1 [==============================] - 0s 60ms/step\n",
      "1/1 [==============================] - 0s 50ms/step\n"
     ]
    },
    {
     "data": {
      "text/plain": [
       "'life of 7yearold for'"
      ]
     },
     "execution_count": 35,
     "metadata": {},
     "output_type": "execute_result"
    }
   ],
   "source": [
    "make_predictions('life')"
   ]
  },
  {
   "cell_type": "code",
   "execution_count": null,
   "id": "d519b292",
   "metadata": {},
   "outputs": [],
   "source": []
  }
 ],
 "metadata": {
  "kernelspec": {
   "display_name": "Python 3 (ipykernel)",
   "language": "python",
   "name": "python3"
  },
  "language_info": {
   "codemirror_mode": {
    "name": "ipython",
    "version": 3
   },
   "file_extension": ".py",
   "mimetype": "text/x-python",
   "name": "python",
   "nbconvert_exporter": "python",
   "pygments_lexer": "ipython3",
   "version": "3.11.4"
  }
 },
 "nbformat": 4,
 "nbformat_minor": 5
}
